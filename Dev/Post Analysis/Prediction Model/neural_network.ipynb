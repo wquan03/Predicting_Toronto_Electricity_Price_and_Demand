{
 "cells": [
  {
   "cell_type": "code",
   "execution_count": 12,
   "id": "c20c0f70",
   "metadata": {},
   "outputs": [],
   "source": [
    "# import all necessary libraries\n",
    "import numpy as np\n",
    "import pandas as pd\n",
    "import itertools\n",
    "from sklearn.neural_network import MLPRegressor\n",
    "from sklearn.model_selection import train_test_split, RandomizedSearchCV, cross_val_score\n",
    "from sklearn.metrics import mean_squared_error, r2_score\n",
    "from sklearn.preprocessing import StandardScaler, MinMaxScaler\n",
    "import matplotlib.pyplot as plt\n",
    "import os\n",
    "import sys\n",
    "import git"
   ]
  },
  {
   "cell_type": "code",
   "execution_count": 13,
   "id": "29ee401e",
   "metadata": {},
   "outputs": [],
   "source": [
    "### Extracting Data\n",
    "# define the file paths\n",
    "base_root = git.Repo('.', search_parent_directories=True).working_tree_dir\n",
    "base_input = base_root + '\\\\Input & Output\\\\Input\\\\'\n",
    "base_output = base_root + '\\\\Input & Output\\\\Output\\\\'\n",
    "\n",
    "anaylsis_input = base_input + 'Post Analysis\\\\'\n",
    "anaylsis_output = base_output + 'Post Analysis\\\\'\n",
    "\n",
    "# read in all data fields as dictionary; key: sheet name, value: sheet dataframe\n",
    "df = pd.read_excel(anaylsis_output + 'all_field_data_daily.xlsx', sheet_name = 'All Data Fields')"
   ]
  },
  {
   "cell_type": "code",
   "execution_count": 14,
   "id": "507dbb14",
   "metadata": {},
   "outputs": [
    {
     "name": "stdout",
     "output_type": "stream",
     "text": [
      "The following are my features\n",
      "Index(['MW Amount', 'Gas Price', 'Temperature', 'Relative Humidity',\n",
      "       'Dew Point', 'Wind Speed', 'Sea Level Pressure', 'HDD 15.5', 'CDD 15.5',\n",
      "       'HDD 18', 'CDD 18', 'Precipitation (mm)', 'Year', 'Month', 'Day',\n",
      "       'DayOfWeek', 'IsWeekend', 'TempSquared', 'PrevDayDemand', 'Population'],\n",
      "      dtype='object')\n"
     ]
    }
   ],
   "source": [
    "# Define the features\n",
    "ontario_supply = 'MW Amount'\n",
    "toronto_temp = 'Temperature'\n",
    "gas_price = 'Gas Price'\n",
    "month = 'Month'\n",
    "\n",
    "toront_demand = 'Toronto Demand'\n",
    "ontario_demand = 'Ontario Demand'\n",
    "toronto_price = 'Price'\t\n",
    "\n",
    "feature_lst = df.columns.tolist()\n",
    "feature_lst.remove(toront_demand)\n",
    "feature_lst.remove(toronto_price)\n",
    "feature_lst.remove(ontario_demand)\n",
    "feature_lst.remove('Date')\n",
    "\n",
    "# feature_lst = [ontario_supply, toronto_temp, gas_price, month]\n",
    "df = df[[toront_demand, toronto_price] + feature_lst]\n",
    "\n",
    "X = df.drop(columns=[toronto_price, toront_demand])\n",
    "print(\"The following are my features\")\n",
    "print(X.columns)\n",
    "\n",
    "# creating target columns\n",
    "# y = df[toronto_price].values\n",
    "y = df[toront_demand].values"
   ]
  },
  {
   "cell_type": "code",
   "execution_count": 15,
   "id": "9cec1031",
   "metadata": {},
   "outputs": [],
   "source": [
    "### --- Data Preprocessing --- \n",
    "X_train, X_test, y_train, y_test = train_test_split(X, y, test_size=0.2, random_state=42)\n",
    "\n",
    "# Feature scaler (for X)\n",
    "x_scaler = StandardScaler()\n",
    "X_train_scaled = x_scaler.fit_transform(X_train)\n",
    "X_test_scaled = x_scaler.transform(X_test)\n",
    "\n",
    "# Target scaler (for y)\n",
    "y_scaler = StandardScaler()\n",
    "y_train_scaled = y_scaler.fit_transform(y_train.reshape(-1, 1)).ravel()\n",
    "y_test_scaled = y_scaler.transform(y_test.reshape(-1, 1)).ravel()"
   ]
  },
  {
   "cell_type": "code",
   "execution_count": 16,
   "id": "22a843d6",
   "metadata": {},
   "outputs": [],
   "source": [
    "### --- Defining Hyperparameters ---\n",
    "size1 = [5, 25, 50, 100, 250]\n",
    "size2 = [5, 25, 50, 100, 250]\n",
    "size3 = [5, 25, 50, 100, 250]\n",
    "size4 = [5, 25, 50, 100, 250]\n",
    "shapes = (\n",
    "    list(itertools.product(size1, repeat=1))\n",
    "    + list(itertools.product(size2, repeat=2))\n",
    "    + list(itertools.product(size3, repeat=3))\n",
    "    + list(itertools.product(size4, repeat=4))\n",
    ")\n",
    "\n",
    "# create a dictionary from the hyperparameter grid\n",
    "param_grid = dict(\n",
    "\thidden_layer_sizes = shapes,\n",
    "\tlearning_rate = ['constant', 'adaptive', 'invscaling'],\n",
    "\tbatch_size = [4, 8, 16, 32, 64, 128], \n",
    "    alpha = [0.1, 0.01, 0.001], \n",
    "    activation = ['tanh', 'relu']\n",
    ")"
   ]
  },
  {
   "cell_type": "code",
   "execution_count": 17,
   "id": "4f9f3ac4",
   "metadata": {},
   "outputs": [
    {
     "name": "stdout",
     "output_type": "stream",
     "text": [
      "[INFO] best score is 0.98 using {'learning_rate': 'constant', 'hidden_layer_sizes': (50, 100, 5, 50), 'batch_size': 16, 'alpha': 0.01, 'activation': 'relu'}\n",
      "\n"
     ]
    }
   ],
   "source": [
    "### --- Train a neural network ---\n",
    "model = MLPRegressor(\n",
    "    hidden_layer_sizes=(64, 32),\n",
    "    activation='relu',\n",
    "    alpha=0.001,\n",
    "    learning_rate='adaptive',\n",
    "    batch_size=32,\n",
    "    solver='adam',\n",
    "    max_iter=10000,\n",
    "    random_state=42\n",
    ")\n",
    "\n",
    "# tunning hyperparameters\n",
    "searcher = RandomizedSearchCV(estimator=model, n_jobs=-1, cv=3, param_distributions=param_grid, scoring=\"r2\")\n",
    "searchResults = searcher.fit(X_train_scaled, y_train_scaled)\n",
    "\n",
    "# summarize grid search information\n",
    "bestScore = searchResults.best_score_\n",
    "bestParams = searchResults.best_params_\n",
    "# Get the best model\n",
    "model = best_xgb_model = searchResults.best_estimator_\n",
    "print(\"[INFO] best score is {:.2f} using {}\".format(bestScore, bestParams))\n",
    "print()"
   ]
  },
  {
   "cell_type": "code",
   "execution_count": 18,
   "id": "ca83cfcd",
   "metadata": {},
   "outputs": [
    {
     "name": "stdout",
     "output_type": "stream",
     "text": [
      "CV Mean MSE: 0.02\n",
      "Mean Squared Error (MSE) with testing set: 75578.32\n",
      "R-squared (R2) with testing set: 0.96\n",
      "\n"
     ]
    }
   ],
   "source": [
    "### Evaluate the mode\n",
    "# get the prediction results from the testing set\n",
    "y_pred_scaled = model.predict(X_test_scaled)\n",
    "y_pred = y_scaler.inverse_transform(y_pred_scaled.reshape(-1, 1)).ravel()\n",
    "\n",
    "# compare the predictions with the testing target\n",
    "mse = mean_squared_error(y_test, y_pred)\n",
    "r2 = r2_score(y_test, y_pred)\n",
    "scores = cross_val_score(model, X_train_scaled, y_train_scaled, scoring='neg_mean_squared_error', cv=5)\n",
    "\n",
    "print(f\"CV Mean MSE: {-np.mean(scores):.2f}\")\n",
    "print(f\"Mean Squared Error (MSE) with testing set: {mse:.2f}\")\n",
    "print(f\"R-squared (R2) with testing set: {r2:.2f}\")\n",
    "\n",
    "print()"
   ]
  },
  {
   "cell_type": "code",
   "execution_count": 19,
   "id": "88b1f7bd",
   "metadata": {},
   "outputs": [
    {
     "data": {
      "image/png": "[encoded data removed]",
      "text/plain": [
       "<Figure size 640x480 with 1 Axes>"
      ]
     },
     "metadata": {},
     "output_type": "display_data"
    }
   ],
   "source": [
    "### Visulizing the model\n",
    "# errors = y_test - y_pred\n",
    "# plt.hist(errors, bins=50)\n",
    "# plt.title(\"Prediction Errors\")\n",
    "# plt.xlabel(\"Error (MW)\")\n",
    "# plt.ylabel(\"Frequency\")\n",
    "# plt.grid(True)\n",
    "# plt.show()\n",
    "\n",
    "plt.scatter(y_test, y_pred, alpha=0.4)\n",
    "plt.xlabel(\"Actual Demand (MW)\")\n",
    "plt.ylabel(\"Predicted Demand (MW)\")\n",
    "plt.title(\"Actual vs. Predicted Toronto Demand\")\n",
    "plt.plot([min(y_test), max(y_test)], [min(y_test), max(y_test)], 'r--')\n",
    "plt.grid(True)\n",
    "plt.show()"
   ]
  },
  {
   "cell_type": "code",
   "execution_count": 20,
   "id": "da01c085",
   "metadata": {},
   "outputs": [
    {
     "name": "stdout",
     "output_type": "stream",
     "text": [
      "Prediction Input Data: [15707.64651, 5.32, 11.71, 84.8, 9.1, 15.62, 100.98, 4.4, 0.6, 4.8, 0, 7.4, 2003, 5, 1, 3, 0, 137.1241, 0, 4861000]\n",
      "Prediction for new data: 4080.5787678113147\n"
     ]
    }
   ],
   "source": [
    "### --- Prediction ---\n",
    "predict_data = [15707.64651, 5.32, 11.71, 84.8, 9.1, 15.62, 100.98, 4.4, 0.6, 4.8, 0, 7.4, 2003, 5, 1, 3, 0, 137.1241, 0, 4861000]\n",
    "# predict_data = [15707.64651, 11.71, 5.32, 5]\n",
    "# print(len(predict_data))\n",
    "# print(len(feature_lst))\n",
    "# print(feature_lst)\n",
    "predict_df = pd.DataFrame(\n",
    "    [predict_data], \n",
    "    columns = feature_lst\n",
    ")\n",
    "\n",
    "# Scale the predicting features\n",
    "predict_df_scaled = x_scaler.transform(predict_df)\n",
    "\n",
    "# Predict using the trainned model\n",
    "predicted_value_scaled = model.predict(predict_df_scaled)\n",
    "\n",
    "# Inverse transform to get real-world demand value\n",
    "predicted_value = y_scaler.inverse_transform(\n",
    "    predicted_value_scaled.reshape(-1, 1)\n",
    ").ravel()[0]\n",
    "\n",
    "\n",
    "print('Prediction Input Data: ' + str(predict_data))\n",
    "print(f\"Prediction for new data: {predicted_value}\")"
   ]
  }
 ],
 "metadata": {
  "kernelspec": {
   "display_name": "Python 3",
   "language": "python",
   "name": "python3"
  },
  "language_info": {
   "codemirror_mode": {
    "name": "ipython",
    "version": 3
   },
   "file_extension": ".py",
   "mimetype": "text/x-python",
   "name": "python",
   "nbconvert_exporter": "python",
   "pygments_lexer": "ipython3",
   "version": "3.12.10"
  }
 },
 "nbformat": 4,
 "nbformat_minor": 5
}

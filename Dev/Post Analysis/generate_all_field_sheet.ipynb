{
 "cells": [
  {
   "cell_type": "code",
   "execution_count": 1,
   "id": "fc71e436",
   "metadata": {},
   "outputs": [],
   "source": [
    "# import all necessary libraries\n",
    "import pandas as pd\n",
    "from functools import reduce\n",
    "import git"
   ]
  },
  {
   "cell_type": "code",
   "execution_count": 2,
   "id": "d65a4e11",
   "metadata": {},
   "outputs": [],
   "source": [
    "### Extracting Data\n",
    "# define the file paths\n",
    "base_root = git.Repo('.', search_parent_directories=True).working_tree_dir\n",
    "base_input = base_root + '\\\\Input & Output\\\\Input\\\\'\n",
    "base_output = base_root + '\\\\Input & Output\\\\Output\\\\'\n",
    "\n",
    "demand_output = base_output + 'Demand\\\\'\n",
    "supply_output = base_output + 'Supply\\\\'\n",
    "market_price_output = base_output + 'Market Price\\\\'\n",
    "weather_output = base_output + 'Weather\\\\'\n",
    "anaylsis_input = base_input + 'Post Analysis\\\\'\n",
    "population_input = base_input + 'Population\\\\'\n",
    "\n",
    "# read in all data fields as dictionary; key: sheet name, value: sheet dataframe\n",
    "demand_dict = pd.read_excel(demand_output + 'toronto_demand_time_series_data.xlsx', sheet_name = None)\n",
    "supply_dict = pd.read_excel(supply_output + 'ontario_supply_time_series_data.xlsx', sheet_name = None)\n",
    "price_dict = pd.read_excel(market_price_output + 'toronto_price_time_series_data.xlsx', sheet_name = None)\n",
    "gas_price_dict = pd.read_excel(market_price_output + 'natural_gas_price_time_series_data.xlsx', sheet_name = None)\n",
    "weather_dict = pd.read_excel(weather_output + 'weather_time_series_data.xlsx', sheet_name = None)\n",
    "df_data_dictionary = pd.read_csv(anaylsis_input + 'data_dictionary.csv')\n",
    "df_population = pd.read_excel(population_input + 'toronto_yearly_population.xlsx')\n"
   ]
  },
  {
   "cell_type": "code",
   "execution_count": 3,
   "id": "ab9c3a9b",
   "metadata": {},
   "outputs": [],
   "source": [
    "### Generating daily and monthly combined dataframes\n",
    "lst_of_dict = [demand_dict, supply_dict, price_dict, gas_price_dict, weather_dict]\n",
    "\n",
    "# extract daily and monthly average\n",
    "lst_of_daily_df = []\n",
    "lst_of_monthly_df = []\n",
    "for dict in lst_of_dict:\n",
    "    df_daily = dict.get('daily average')\n",
    "    df_daily['Date'] = pd.to_datetime(df_daily['Date'])\n",
    "    df_monthly = dict.get('monthly average')\n",
    "    df_monthly['Date'] = pd.to_datetime(df_monthly['Date'])\n",
    "    lst_of_daily_df.append(df_daily)\n",
    "    lst_of_monthly_df.append(df_monthly)\n",
    "\n",
    "\n",
    "# merge the list of dfs from all the dictionaries\n",
    "def merge_dfs(left, right):\n",
    "    return pd.merge(left, right, on = 'Date', how='left') \n",
    "\n",
    "df_all_field_daily = reduce(merge_dfs, lst_of_daily_df)\n",
    "df_all_field_monthly = reduce(merge_dfs, lst_of_monthly_df)"
   ]
  },
  {
   "cell_type": "code",
   "execution_count": 4,
   "id": "356bfde7",
   "metadata": {},
   "outputs": [],
   "source": [
    "### Pre-process the Data\n",
    "# Define start and end dates\n",
    "start_date = '2003-05-01'\n",
    "end_date = '2025-4-30'\n",
    "df_all_field_daily = df_all_field_daily[(df_all_field_daily['Date'] >= start_date) & (df_all_field_daily['Date'] <= end_date)]\n",
    "df_all_field_monthly = df_all_field_monthly[(df_all_field_monthly['Date'] >= start_date) & (df_all_field_monthly['Date'] <= end_date)]\n",
    "\n",
    "\n",
    "# standarlizing column names\n",
    "rename_dict = {\n",
    "    'avg_hourly_temperature': 'Temperature', \n",
    "    'avg_hourly_relative_humidity': 'Relative Humidity',\n",
    "    'avg_hourly_dew_point': 'Dew Point',\n",
    "    'avg_hourly_wind_speed': 'Wind Speed', \n",
    "    'avg_hourly_pressure_sea': 'Sea Level Pressure',\n",
    "    'precipitation': 'Precipitation (mm)'\n",
    "}\n",
    "df_all_field_daily = df_all_field_daily.rename(columns = rename_dict)\n",
    "df_all_field_monthly = df_all_field_monthly.rename(columns = rename_dict)"
   ]
  },
  {
   "cell_type": "code",
   "execution_count": 5,
   "id": "6e21c5d9",
   "metadata": {},
   "outputs": [],
   "source": [
    "### Enriching the dataset\n",
    "\"\"\"\n",
    "This function separate the datatime column into 3 different columns, year, month, and dat for more information\n",
    "This function also derive additional columns for more information: TempSquared & PrevDayDemand\n",
    "\"\"\"\n",
    "\n",
    "def enrich_dataset(df, level = 'day'):\n",
    "    df['Date'] = pd.to_datetime(df['Date'])\n",
    "    if level == 'day':\n",
    "        df['Year'] = df['Date'].dt.year\n",
    "        df['Month'] = df['Date'].dt.month\n",
    "        df['Day'] = df['Date'].dt.day\n",
    "        df['DayOfWeek'] = df['Date'].dt.dayofweek\n",
    "\n",
    "        df['IsWeekend'] = df['DayOfWeek'].apply(lambda x: 1 if x >= 5 else 0)\n",
    "        # df['IsWeekend'] = 1 if df['DayOfWeek'] >= 5 else 0\n",
    "    elif level == 'month':\n",
    "        df['Year'] = df['Date'].dt.year\n",
    "        df['Month'] = df['Date'].dt.month\n",
    "        \n",
    "    else:\n",
    "        df['Year'] = df['Date'].dt.year\n",
    "    df['TempSquared'] = df['Temperature'] ** 2\n",
    "    df['PrevDayDemand'] = df['Toronto Demand'].shift(1)\n",
    "    return df\n",
    "\n",
    "df_all_field_daily = enrich_dataset(df_all_field_daily)\n",
    "df_all_field_monthly = enrich_dataset(df_all_field_monthly, 'month')\n",
    "\n",
    "# Merge population data based on column year - since population is yearly data\n",
    "df_all_field_daily = df_all_field_daily.merge(df_population, how = 'left', on = 'Year')\n",
    "df_all_field_monthly = df_all_field_monthly.merge(df_population, how = 'left', on = 'Year')\n",
    "\n",
    "# Drop unwantted fields\n",
    "df_all_field_daily = df_all_field_daily.drop('daylight', axis = 1)\n",
    "df_all_field_monthly = df_all_field_monthly.drop('daylight', axis = 1)\n",
    "\n",
    "# fill na as 0\n",
    "df_all_field_daily = df_all_field_daily.fillna(0)\n",
    "df_all_field_monthly = df_all_field_monthly.fillna(0)"
   ]
  },
  {
   "cell_type": "code",
   "execution_count": null,
   "id": "fc67f291",
   "metadata": {},
   "outputs": [
    {
     "ename": "",
     "evalue": "",
     "output_type": "error",
     "traceback": [
      "\u001b[1;31mThe Kernel crashed while executing code in the current cell or a previous cell. \n",
      "\u001b[1;31mPlease review the code in the cell(s) to identify a possible cause of the failure. \n",
      "\u001b[1;31mClick <a href='https://aka.ms/vscodeJupyterKernelCrash'>here</a> for more info. \n",
      "\u001b[1;31mView Jupyter <a href='command:jupyter.viewOutput'>log</a> for further details."
     ]
    }
   ],
   "source": [
    "### Outputting dataframes\n",
    "anaylsis_output = base_output + 'Post Analysis\\\\'\n",
    "# Output to excel\n",
    "with pd.ExcelWriter(anaylsis_output + 'all_field_data_daily.xlsx') as writer:\n",
    "    df_data_dictionary.to_excel(writer, sheet_name = 'Data Dictionary', index=False)\n",
    "\n",
    "    df_all_field_daily.to_excel(writer, sheet_name='All Data Fields', index=False)\n",
    "\n",
    "with pd.ExcelWriter(anaylsis_output + 'all_field_data_monthly.xlsx') as writer:\n",
    "    df_data_dictionary.to_excel(writer, sheet_name = 'Data Dictionary', index=False)\n",
    "\n",
    "    df_all_field_monthly.to_excel(writer, sheet_name='All Data Fields', index=False)"
   ]
  }
 ],
 "metadata": {
  "kernelspec": {
   "display_name": "Python 3",
   "language": "python",
   "name": "python3"
  },
  "language_info": {
   "codemirror_mode": {
    "name": "ipython",
    "version": 3
   },
   "file_extension": ".py",
   "mimetype": "text/x-python",
   "name": "python",
   "nbconvert_exporter": "python",
   "pygments_lexer": "ipython3",
   "version": "3.12.10"
  }
 },
 "nbformat": 4,
 "nbformat_minor": 5
}

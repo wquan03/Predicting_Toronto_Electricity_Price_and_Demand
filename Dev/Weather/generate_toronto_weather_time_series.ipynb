{
 "cells": [
  {
   "cell_type": "code",
   "execution_count": 3,
   "id": "129c23b0",
   "metadata": {},
   "outputs": [],
   "source": [
    "# import all necessary libraries\n",
    "import pandas as pd\n",
    "import numpy as np\n",
    "from datetime import datetime, timedelta\n",
    "import os\n",
    "import sys\n",
    "import git"
   ]
  },
  {
   "cell_type": "code",
   "execution_count": 4,
   "id": "fd29f93a",
   "metadata": {},
   "outputs": [],
   "source": [
    "### Define file paths\n",
    "base_root = git.Repo('.', search_parent_directories=True).working_tree_dir\n",
    "base_input = base_root + '\\\\Input & Output\\\\Input\\\\'\n",
    "base_output = base_root + '\\\\Input & Output\\\\Output\\\\'\n",
    "\n",
    "weather_input = base_input + 'Weather\\\\'\n",
    "weather_output = base_output + 'Weather\\\\'"
   ]
  },
  {
   "cell_type": "code",
   "execution_count": 5,
   "id": "0f106783",
   "metadata": {},
   "outputs": [
    {
     "name": "stderr",
     "output_type": "stream",
     "text": [
      "C:\\Users\\CGOD\\AppData\\Local\\Temp\\ipykernel_47364\\2881632096.py:2: DtypeWarning: Columns (46,49) have mixed types. Specify dtype option on import or set low_memory=False.\n",
      "  df_weather = pd.read_csv(weather_input + 'weatherstats_toronto_daily.csv')\n"
     ]
    }
   ],
   "source": [
    "### Combine all weather data into one dataframe\n",
    "df_weather = pd.read_csv(weather_input + 'weatherstats_toronto_daily.csv')\n",
    "df_hdd_cdd = pd.read_csv(weather_input + 'CYYZ Heating Cooling Combined.csv')\n",
    "df_weather = df_weather.rename(columns = {\n",
    "    'date': 'Date',\n",
    "    'heatdegdays': 'HDD 18',\n",
    "    'cooldegdays': 'CDD 18'\n",
    "})\n",
    "\n",
    "df_all_weather = df_weather.merge(df_hdd_cdd, how = 'left', on = 'Date')\n",
    "df_all_weather = df_all_weather.iloc[::-1]"
   ]
  },
  {
   "cell_type": "code",
   "execution_count": 6,
   "id": "ec488da5",
   "metadata": {},
   "outputs": [],
   "source": [
    "### Process the combined dataframe\n",
    "df_all_weather['Date'] = pd.to_datetime(df_all_weather['Date'])\n",
    "group_lst = ['avg_hourly_temperature', 'avg_hourly_relative_humidity', 'avg_hourly_dew_point', 'avg_hourly_wind_speed', 'avg_hourly_pressure_sea', 'daylight', 'HDD 15.5', 'CDD 15.5', 'HDD 18', 'CDD 18']\n",
    "\n",
    "# monthly\n",
    "df_all_weather_monthly_avg = df_all_weather.groupby(pd.Grouper(key='Date', freq='ME'))[group_lst].mean().reset_index()\n",
    "df_all_weather_monthly_avg['Date'] = df_all_weather_monthly_avg['Date'].dt.strftime('%Y-%m')\n",
    "df_precipitation_monthly_sum = df_all_weather.groupby(pd.Grouper(key='Date', freq='ME'))['precipitation'].sum().reset_index()\n",
    "df_precipitation_monthly_sum['Date'] = df_precipitation_monthly_sum['Date'].dt.strftime('%Y-%m')\n",
    "\n",
    "# yearly\n",
    "df_all_weather_yearly_avg = df_all_weather.groupby(pd.Grouper(key='Date', freq='YE'))[group_lst].mean().reset_index()\n",
    "df_all_weather_yearly_avg['Date'] = df_all_weather_yearly_avg['Date'].dt.strftime('%Y')\n",
    "df_precipitation_yearly_sum = df_all_weather.groupby(pd.Grouper(key='Date', freq='YE'))['precipitation'].sum().reset_index()\n",
    "df_precipitation_yearly_sum['Date'] = df_precipitation_yearly_sum['Date'].dt.strftime('%Y')\n",
    "\n",
    "# combine the sum and mean columns\n",
    "df_all_weather_monthly = df_all_weather_monthly_avg.merge(df_precipitation_monthly_sum, how = 'left', on = 'Date')\n",
    "df_all_weather_yearly = df_all_weather_yearly_avg.merge(df_precipitation_yearly_sum, how = 'left', on = 'Date')\n",
    "\n",
    "# reoder the df\n",
    "order_lst = ['Date'] + group_lst + ['precipitation']\n",
    "df_all_weather = df_all_weather[order_lst]"
   ]
  },
  {
   "cell_type": "code",
   "execution_count": 7,
   "id": "78da5296",
   "metadata": {},
   "outputs": [],
   "source": [
    "### Outputting dataframes\n",
    "with pd.ExcelWriter(weather_output + 'weather_time_series_data.xlsx') as writer:\n",
    "    df_all_weather.to_excel(writer, sheet_name='daily average', index=False)\n",
    "\n",
    "    df_all_weather_monthly.to_excel(writer, sheet_name='monthly average', index=False)\n",
    "    df_all_weather_yearly.to_excel(writer, sheet_name='yearly average', index=False)"
   ]
  }
 ],
 "metadata": {
  "kernelspec": {
   "display_name": "Python 3",
   "language": "python",
   "name": "python3"
  },
  "language_info": {
   "codemirror_mode": {
    "name": "ipython",
    "version": 3
   },
   "file_extension": ".py",
   "mimetype": "text/x-python",
   "name": "python",
   "nbconvert_exporter": "python",
   "pygments_lexer": "ipython3",
   "version": "3.12.10"
  }
 },
 "nbformat": 4,
 "nbformat_minor": 5
}

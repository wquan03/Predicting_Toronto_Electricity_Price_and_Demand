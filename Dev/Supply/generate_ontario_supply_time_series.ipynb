{
 "cells": [
  {
   "cell_type": "code",
   "execution_count": 3,
   "id": "a3616322",
   "metadata": {},
   "outputs": [],
   "source": [
    "# import all necessary libraries\n",
    "import pandas as pd\n",
    "import numpy as np\n",
    "from datetime import datetime, timedelta\n",
    "import os\n",
    "import sys\n",
    "import git"
   ]
  },
  {
   "cell_type": "code",
   "execution_count": 4,
   "id": "93c40c19",
   "metadata": {},
   "outputs": [],
   "source": [
    "### Define file paths\n",
    "base_root = git.Repo('.', search_parent_directories=True).working_tree_dir\n",
    "base_input = base_root + '\\\\Input & Output\\\\Input\\\\'\n",
    "base_output = base_root + '\\\\Input & Output\\\\Output\\\\'\n",
    "\n",
    "supply_input = base_input + 'Supply\\\\'\n",
    "supply_output = base_output + 'Supply\\\\'\n",
    "\n",
    "supply_canada_stats = supply_input + 'Canada Stats\\\\'"
   ]
  },
  {
   "cell_type": "code",
   "execution_count": 5,
   "id": "85176647",
   "metadata": {},
   "outputs": [],
   "source": [
    "### Combine supply data from Canada Statistics\n",
    "# archive data, up to 2007-12\n",
    "df_supply1 = pd.read_csv(supply_canada_stats + '2002 05 - 2007 12.csv')\n",
    "df_supply1 = df_supply1[['REF_DATE', 'Electric power, components', 'VALUE']]\n",
    "df_supply1 = df_supply1.rename(columns={'REF_DATE': 'Date', 'Electric power, components': 'Type of electricity generation', 'VALUE': 'MW Amount'})\n",
    "df_supply1 = df_supply1.loc[df_supply1['Type of electricity generation'] == 'Overall total generation']\n",
    "\n",
    "# present data, up to 2025-04\n",
    "df_supply2 = pd.read_csv(supply_canada_stats + '2008 01 - 2025 04.csv')\n",
    "df_supply2 = df_supply2[['REF_DATE', 'Type of electricity generation', 'VALUE']]\n",
    "df_supply2 = df_supply2.rename(columns={'REF_DATE': 'Date', 'VALUE': 'MW Amount'})\n",
    "df_supply2 = df_supply2.loc[df_supply2['Type of electricity generation'] == 'Total all types of electricity generation']\n",
    "\n",
    "# combine archive and present data\n",
    "df_supply = pd.concat([df_supply1, df_supply2])\n",
    "df_supply = df_supply.drop('Type of electricity generation', axis = 1)\n",
    "df_supply = df_supply.rename(columns={'REF_DATE': 'Date'})\n",
    "\n",
    "# convert unit, MWh -> MW\n",
    "df_supply['MW Amount'] = df_supply.apply(lambda row: row['MW Amount'] / pd.Timestamp(row['Date']).days_in_month / 24, axis=1)\n",
    "\n",
    "# Grabing data until 2010\n",
    "df_supply = df_supply.loc[pd.to_datetime(df_supply['Date']).dt.year < 2010]\n",
    "\n",
    "# Expand to daily formate\n",
    "df_supply['Date'] = pd.to_datetime(df_supply['Date'], format='%Y-%m')\n",
    "expanded_rows = []\n",
    "for _, row in df_supply.iterrows():\n",
    "    start = row['Date']\n",
    "    end = (start + pd.offsets.MonthEnd(1)).replace(hour=23)\n",
    "    \n",
    "    # Generate hourly datetime range for the month\n",
    "    hourly_range = pd.date_range(start=start, end=end, freq='h')\n",
    "    \n",
    "    # Create hourly rows\n",
    "    for hour in hourly_range:\n",
    "        expanded_rows.append({'Date': hour, 'MW Amount': row['MW Amount']})\n",
    "\n",
    "# Create the exploded DataFrame\n",
    "df_canada = pd.DataFrame(expanded_rows)"
   ]
  },
  {
   "cell_type": "code",
   "execution_count": null,
   "id": "b0cccda3",
   "metadata": {},
   "outputs": [
    {
     "name": "stderr",
     "output_type": "stream",
     "text": [
      "C:\\Users\\CGOD\\AppData\\Local\\Temp\\ipykernel_44156\\1207383819.py:18: PerformanceWarning: DataFrame is highly fragmented.  This is usually the result of calling `frame.insert` many times, which has poor performance.  Consider joining all columns at once using pd.concat(axis=1) instead. To get a de-fragmented frame, use `newframe = frame.copy()`\n",
      "  df_goc['MW Amount'] = df_goc[generator_list].sum(axis=1, numeric_only=True)\n"
     ]
    }
   ],
   "source": [
    "### Combine supply data from IESO Archive\n",
    "supply_prefix = 'GOC-'\n",
    "start_year = 2010\n",
    "end_year = 2014\n",
    "\n",
    "# Merging Dataframes\n",
    "df_goc_supply_lst = []\n",
    "for year in range(start_year, end_year + 1):\n",
    "    df_goc_supply = pd.read_excel(supply_input + 'GOC\\\\' + supply_prefix + str(year) + '.xlsx', sheet_name = 'Output')\n",
    "    df_goc_supply = df_goc_supply.rename(columns = {\n",
    "    'DATE': 'Date',\n",
    "    'HOUR': 'Hour'\n",
    "    })\n",
    "    df_goc_supply_lst.append(df_goc_supply)\n",
    "    \n",
    "df_goc = pd.concat(df_goc_supply_lst)\n",
    "\n",
    "# Combine hourly data\n",
    "generator_list = df_goc.columns.to_list()\n",
    "generator_list.remove('Date')\n",
    "generator_list.remove('Hour')\n",
    "df_goc['MW Amount'] = df_goc[generator_list].sum(axis=1, numeric_only=True)\n",
    "\n",
    "# Rename column names\n",
    "df_goc = df_goc[['Date', 'Hour', 'MW Amount']]\n",
    "\n",
    "# Combining date with hour\n",
    "df_goc['Date'] = pd.to_datetime(df_goc['Date'])\n",
    "df_goc['Date'] = df_goc['Date'] + pd.to_timedelta(df_goc['Hour'], unit='h')\n",
    "df_goc = df_goc.drop('Hour', axis = 1)"
   ]
  },
  {
   "cell_type": "code",
   "execution_count": 7,
   "id": "9e3a605d",
   "metadata": {},
   "outputs": [],
   "source": [
    "### Combine supply data from IESO\n",
    "supply_prefix = 'PUB_GenOutputbyFuelHourly_'\n",
    "start_year = 2015\n",
    "cur_year = 2025\n",
    "\n",
    "# Merging Dataframes\n",
    "df_pub_supply_lst = []\n",
    "for year in range(start_year, cur_year + 1):\n",
    "    df_pub_supply = pd.read_excel(supply_input + 'PUB_GenOutputbyFuelHourly\\\\' + supply_prefix + str(year) + '.xlsx', usecols = [6, 7, 10])\n",
    "    df_pub_supply_lst.append(df_pub_supply)\n",
    "    \n",
    "df_pub = pd.concat(df_pub_supply_lst)\n",
    "\n",
    "# Renaming Dataframe\n",
    "df_pub = df_pub.rename(columns = {\n",
    "    'ns1:Day': 'Date',\n",
    "    'ns1:Hour': 'Hour',\n",
    "    'ns1:Output': 'MW Amount'\n",
    "})\n",
    "\n",
    "# Combine hourly data\n",
    "df_pub = df_pub.groupby(['Date', 'Hour'])['MW Amount'].sum().reset_index()\n",
    "\n",
    "# Combining date with hour\n",
    "df_pub['Date'] = pd.to_datetime(df_pub['Date'])\n",
    "df_pub['Date'] = df_pub['Date'] + pd.to_timedelta(df_pub['Hour'], unit='h')\n",
    "df_pub = df_pub.drop('Hour', axis = 1)"
   ]
  },
  {
   "cell_type": "code",
   "execution_count": 8,
   "id": "1de8cd8b",
   "metadata": {},
   "outputs": [],
   "source": [
    "# Combine all supply dataframe into one\n",
    "df_supply = pd.concat([df_canada, df_goc, df_pub])"
   ]
  },
  {
   "cell_type": "code",
   "execution_count": 9,
   "id": "de6816a3",
   "metadata": {},
   "outputs": [],
   "source": [
    "### Process the combined dataframe\n",
    "# daily average\n",
    "df_supply_daily = df_supply.groupby(pd.Grouper(key='Date', freq='D'))['MW Amount'].sum().reset_index()\n",
    "df_supply_daily['Date'] = df_supply_daily['Date'].dt.strftime('%Y-%m-%d')\n",
    "df_supply_daily['MW Amount'] = df_supply_daily.apply(lambda row: row['MW Amount'] / 24, axis=1)\n",
    "\n",
    "# monthly average\n",
    "df_supply_monthly = df_supply.groupby(pd.Grouper(key='Date', freq='ME'))['MW Amount'].sum().reset_index()\n",
    "df_supply_monthly['Date'] = df_supply_monthly['Date'].dt.strftime('%Y-%m')\n",
    "df_supply_monthly['MW Amount'] = df_supply_monthly.apply(lambda row: row['MW Amount'] / pd.Timestamp(row['Date']).days_in_month / 24, axis=1)\n"
   ]
  },
  {
   "cell_type": "code",
   "execution_count": 10,
   "id": "30a1661d",
   "metadata": {},
   "outputs": [],
   "source": [
    "### Outputting dataframes\n",
    "with pd.ExcelWriter(supply_output + 'ontario_supply_time_series_data.xlsx') as writer:\n",
    "    df_supply.to_excel(writer, sheet_name='cleaned raw data', index = False)\n",
    "    \n",
    "    # By month and day\n",
    "    df_supply_daily.to_excel(writer, sheet_name='daily average', index = False)\n",
    "    df_supply_monthly.to_excel(writer, sheet_name='monthly average', index = False)"
   ]
  }
 ],
 "metadata": {
  "kernelspec": {
   "display_name": "Python 3",
   "language": "python",
   "name": "python3"
  },
  "language_info": {
   "codemirror_mode": {
    "name": "ipython",
    "version": 3
   },
   "file_extension": ".py",
   "mimetype": "text/x-python",
   "name": "python",
   "nbconvert_exporter": "python",
   "pygments_lexer": "ipython3",
   "version": "3.12.10"
  }
 },
 "nbformat": 4,
 "nbformat_minor": 5
}

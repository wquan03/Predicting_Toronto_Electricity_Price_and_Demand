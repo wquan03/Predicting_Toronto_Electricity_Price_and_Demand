{
 "cells": [
  {
   "cell_type": "code",
   "execution_count": 2,
   "id": "a3616322",
   "metadata": {},
   "outputs": [],
   "source": [
    "# import all necessary libraries\n",
    "import pandas as pd\n",
    "import numpy as np\n",
    "from datetime import datetime, timedelta\n",
    "import os\n",
    "import sys\n",
    "import git"
   ]
  },
  {
   "cell_type": "code",
   "execution_count": 5,
   "id": "93c40c19",
   "metadata": {},
   "outputs": [],
   "source": [
    "### Define file paths\n",
    "base_root = git.Repo('.', search_parent_directories=True).working_tree_dir\n",
    "base_input = base_root + '\\\\Input & Output\\\\Input\\\\'\n",
    "base_output = base_root + '\\\\Input & Output\\\\Output\\\\'\n",
    "\n",
    "market_price_input = base_input + 'Market Price\\\\'\n",
    "market_price_output = base_output + 'Market Price\\\\'\n",
    "gas_price_input = market_price_input + 'Gas and Carbon\\\\'"
   ]
  },
  {
   "cell_type": "code",
   "execution_count": 6,
   "id": "85176647",
   "metadata": {},
   "outputs": [],
   "source": [
    "### Read in source dataframe\n",
    "df_gas_price = pd.read_excel(gas_price_input + 'EIA Natural Gas.xls', sheet_name = 'Data 1', header = 2)\n",
    "df_gas_price.columns = ['Date', 'Gas Price']"
   ]
  },
  {
   "cell_type": "code",
   "execution_count": 7,
   "id": "de6816a3",
   "metadata": {},
   "outputs": [],
   "source": [
    "### Process the data\n",
    "# Convert to datetime with time\n",
    "df_gas_price['Date'] = pd.to_datetime(df_gas_price['Date'])\n",
    "\n",
    "# Reset index to include skipped days\n",
    "df_gas_price.set_index('Date', inplace=True)\n",
    "full_idx = pd.date_range(start=df_gas_price.index.min(), end=df_gas_price.index.max(), freq='D')\n",
    "df_gas_price = df_gas_price.reindex(full_idx)\n",
    "# Fill the missing days\n",
    "df_gas_price['Gas Price'] = df_gas_price['Gas Price'].ffill()\n",
    "# Reset index and rename\n",
    "df_gas_price = df_gas_price.reset_index().rename(columns={'index': 'Date'})\n",
    "\n",
    "# Daily average\n",
    "df_gas_price_daily = df_gas_price.groupby(pd.Grouper(key='Date', freq='D'))['Gas Price'].mean()\n",
    "df_gas_price_daily.index = df_gas_price_daily.index.strftime('%Y-%m-%d')\n",
    "\n",
    "# Monthly average\n",
    "df_gas_price_monthly = df_gas_price.groupby(pd.Grouper(key='Date', freq='ME'))['Gas Price'].mean()\n",
    "df_gas_price_monthly.index = df_gas_price_monthly.index.strftime('%Y-%m')"
   ]
  },
  {
   "cell_type": "code",
   "execution_count": 8,
   "id": "30a1661d",
   "metadata": {},
   "outputs": [],
   "source": [
    "### Outputting dataframes\n",
    "with pd.ExcelWriter(market_price_output + 'natural_gas_price_time_series_data.xlsx') as writer:\n",
    "    df_gas_price.to_excel(writer, sheet_name='raw data', index = False)\n",
    "    df_gas_price_daily.to_excel(writer, sheet_name='daily average')\n",
    "    df_gas_price_monthly.to_excel(writer, sheet_name='monthly average')"
   ]
  }
 ],
 "metadata": {
  "kernelspec": {
   "display_name": "Python 3",
   "language": "python",
   "name": "python3"
  },
  "language_info": {
   "codemirror_mode": {
    "name": "ipython",
    "version": 3
   },
   "file_extension": ".py",
   "mimetype": "text/x-python",
   "name": "python",
   "nbconvert_exporter": "python",
   "pygments_lexer": "ipython3",
   "version": "3.12.10"
  }
 },
 "nbformat": 4,
 "nbformat_minor": 5
}

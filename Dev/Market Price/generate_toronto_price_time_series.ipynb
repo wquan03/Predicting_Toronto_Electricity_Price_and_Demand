{
 "cells": [
  {
   "cell_type": "code",
   "execution_count": 1,
   "id": "a3616322",
   "metadata": {},
   "outputs": [],
   "source": [
    "# import all necessary libraries\n",
    "import pandas as pd\n",
    "import numpy as np\n",
    "from datetime import datetime, timedelta\n",
    "import os\n",
    "import sys\n",
    "import git"
   ]
  },
  {
   "cell_type": "code",
   "execution_count": 2,
   "id": "93c40c19",
   "metadata": {},
   "outputs": [],
   "source": [
    "### Define file paths\n",
    "base_root = git.Repo('.', search_parent_directories=True).working_tree_dir\n",
    "base_input = base_root + '\\\\Input & Output\\\\Input\\\\'\n",
    "base_output = base_root + '\\\\Input & Output\\\\Output\\\\'\n",
    "\n",
    "market_price_input = base_input + 'Market Price\\\\'\n",
    "market_price_output = base_output + 'Market Price\\\\'"
   ]
  },
  {
   "cell_type": "code",
   "execution_count": 3,
   "id": "85176647",
   "metadata": {},
   "outputs": [],
   "source": [
    "### Combine all supply data into one dataframe\n",
    "price_prefix = 'PUB_PriceNodal_'\n",
    "start_year = 2002\n",
    "nodal_price_source_path = market_price_input + 'Nodal Price\\\\'\n",
    "header = 4\n",
    "\n",
    "def combine_csvs(file_prefix, start_year, source_file_path, header):\n",
    "    df_lst = []\n",
    "    cur_year = 2025\n",
    "    for year in range(start_year, cur_year + 1):\n",
    "        df = pd.read_csv(source_file_path + file_prefix + str(year) + '.csv', header = header)\n",
    "        df_lst.append(df)\n",
    "        \n",
    "    df_final = pd.concat(df_lst)\n",
    "    return df_final\n",
    "\n",
    "df_price_final = combine_csvs(price_prefix, start_year, nodal_price_source_path, header)"
   ]
  },
  {
   "cell_type": "code",
   "execution_count": 4,
   "id": "1de8cd8b",
   "metadata": {},
   "outputs": [],
   "source": [
    "# keep the useful columns and rename for more clarity\n",
    "df_price_final = df_price_final[['Date', 'Hour', 'Darlington']]\n",
    "df_price_final = df_price_final.rename(columns = {'Darlington': 'Price'})"
   ]
  },
  {
   "cell_type": "code",
   "execution_count": 5,
   "id": "de6816a3",
   "metadata": {},
   "outputs": [],
   "source": [
    "### Process the combined dataframe\n",
    "# combining date with hour\n",
    "df_price_final['Date'] = pd.to_datetime(df_price_final['Date'])\n",
    "df_price_final['Date'] = df_price_final['Date'] + pd.to_timedelta(df_price_final['Hour'], unit='h')\n",
    "df_price_final = df_price_final.drop('Hour', axis = 1)\n",
    "\n",
    "# ensure there are no null values\n",
    "df_price_final['Price'] = df_price_final['Price'].fillna(0)\n",
    "\n",
    "# daily average\n",
    "df_price_daily = df_price_final.groupby(pd.Grouper(key='Date', freq='D'))['Price'].mean()\n",
    "df_price_daily.index = df_price_daily.index.strftime('%Y-%m-%d')\n",
    "\n",
    "# monthly average\n",
    "df_price_monthly = df_price_final.groupby(pd.Grouper(key='Date', freq='ME'))['Price'].mean()\n",
    "df_price_monthly.index = df_price_monthly.index.strftime('%Y-%m')"
   ]
  },
  {
   "cell_type": "code",
   "execution_count": 6,
   "id": "30a1661d",
   "metadata": {},
   "outputs": [],
   "source": [
    "### Outputting dataframes\n",
    "with pd.ExcelWriter(market_price_output + 'toronto_price_time_series_data.xlsx') as writer:\n",
    "    df_price_final.to_excel(writer, sheet_name='raw data', index = False)\n",
    "    df_price_daily.to_excel(writer, sheet_name='daily average')\n",
    "    df_price_monthly.to_excel(writer, sheet_name='monthly average')"
   ]
  }
 ],
 "metadata": {
  "kernelspec": {
   "display_name": "Python 3",
   "language": "python",
   "name": "python3"
  },
  "language_info": {
   "codemirror_mode": {
    "name": "ipython",
    "version": 3
   },
   "file_extension": ".py",
   "mimetype": "text/x-python",
   "name": "python",
   "nbconvert_exporter": "python",
   "pygments_lexer": "ipython3",
   "version": "3.12.10"
  }
 },
 "nbformat": 4,
 "nbformat_minor": 5
}

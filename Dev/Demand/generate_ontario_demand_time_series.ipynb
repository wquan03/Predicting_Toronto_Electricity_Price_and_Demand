{
 "cells": [
  {
   "cell_type": "code",
   "execution_count": 30,
   "id": "a3616322",
   "metadata": {},
   "outputs": [],
   "source": [
    "# import all necessary libraries\n",
    "import pandas as pd\n",
    "import numpy as np\n",
    "from datetime import datetime, timedelta\n",
    "import os\n",
    "import sys\n",
    "import git"
   ]
  },
  {
   "cell_type": "code",
   "execution_count": 32,
   "id": "93c40c19",
   "metadata": {},
   "outputs": [],
   "source": [
    "### Define file paths\n",
    "base_root = git.Repo('.', search_parent_directories=True).working_tree_dir\n",
    "base_input = base_root + '\\\\Input & Output\\\\Input\\\\'\n",
    "base_output = base_root + '\\\\Input & Output\\\\Output\\\\'\n",
    "\n",
    "demand_input = base_input + 'Demand\\\\'\n",
    "demand_output = base_output + 'Demand\\\\'\n",
    "ontario_demand_path = demand_input + 'Zonal\\\\'"
   ]
  },
  {
   "cell_type": "code",
   "execution_count": null,
   "id": "85176647",
   "metadata": {},
   "outputs": [],
   "source": [
    "### Combine all demand data into one dataframe\n",
    "demand_prefix = 'PUB_DemandZonal_'\n",
    "start_year = 2003\n",
    "zonal_demand_source_path = demand_input + 'Zonal\\\\'\n",
    "header = 3\n",
    "\n",
    "def combine_csvs(file_prefix, start_year, source_file_path, header):\n",
    "    df_lst = []\n",
    "    cur_year = 2025\n",
    "    for year in range(start_year, cur_year + 1):\n",
    "        df = pd.read_csv(source_file_path + file_prefix + str(year) + '.csv', header = header)\n",
    "        df_lst.append(df)\n",
    "        \n",
    "    df_final = pd.concat(df_lst)\n",
    "    return df_final\n",
    "\n",
    "df_demand_final = combine_csvs(demand_prefix, start_year, zonal_demand_source_path, header)"
   ]
  },
  {
   "cell_type": "code",
   "execution_count": 41,
   "id": "1de8cd8b",
   "metadata": {},
   "outputs": [],
   "source": [
    "# keep the useful columns and rename for more clarity\n",
    "df_demand_final = df_demand_final[['Date', 'Hour', 'Ontario Demand', 'Toronto']]\n",
    "df_demand_final = df_demand_final.rename(columns = {'Toronto': 'Toronto Demand'})"
   ]
  },
  {
   "cell_type": "code",
   "execution_count": null,
   "id": "de6816a3",
   "metadata": {},
   "outputs": [],
   "source": [
    "### Process the combined dataframe\n",
    "# combining date with hour\n",
    "df_demand_final['Date'] = pd.to_datetime(df_demand_final['Date'], format='ISO8601')\n",
    "df_demand_final['Date'] = df_demand_final['Date'] + pd.to_timedelta(df_demand_final['Hour'], unit='h')\n",
    "df_demand_final = df_demand_final.drop('Hour', axis = 1)\n",
    "\n",
    "# daily average\n",
    "df_demand_final_daily = df_demand_final.groupby(pd.Grouper(key='Date', freq='D'))[['Toronto Demand', 'Ontario Demand']].mean()\n",
    "df_demand_final_daily.index = df_demand_final_daily.index.strftime('%Y-%m-%d')\n",
    "\n",
    "# monthly average\n",
    "df_demand_final_monthly = df_demand_final.groupby(pd.Grouper(key='Date', freq='ME'))[['Toronto Demand', 'Ontario Demand']].mean()\n",
    "df_demand_final_monthly.index = df_demand_final_monthly.index.strftime('%Y-%m')"
   ]
  },
  {
   "cell_type": "code",
   "execution_count": 46,
   "id": "30a1661d",
   "metadata": {},
   "outputs": [],
   "source": [
    "### Outputting dataframes\n",
    "with pd.ExcelWriter(demand_output + 'toronto_demand_time_series_data.xlsx') as writer:\n",
    "    df_demand_final.to_excel(writer, sheet_name='raw data', index = False)\n",
    "    df_demand_final_daily.to_excel(writer, sheet_name='daily average')\n",
    "    df_demand_final_monthly.to_excel(writer, sheet_name='monthly average')"
   ]
  }
 ],
 "metadata": {
  "kernelspec": {
   "display_name": "Python 3",
   "language": "python",
   "name": "python3"
  },
  "language_info": {
   "codemirror_mode": {
    "name": "ipython",
    "version": 3
   },
   "file_extension": ".py",
   "mimetype": "text/x-python",
   "name": "python",
   "nbconvert_exporter": "python",
   "pygments_lexer": "ipython3",
   "version": "3.12.10"
  }
 },
 "nbformat": 4,
 "nbformat_minor": 5
}
